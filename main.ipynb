{
 "cells": [
  {
   "cell_type": "code",
   "execution_count": 1,
   "metadata": {},
   "outputs": [],
   "source": [
    "import json\n",
    "import os\n",
    "from pathlib import Path\n",
    "import yaml\n",
    "from tqdm import tqdm\n",
    "\n",
    "annotation_file = \"instances_val2017.json\"\n",
    "classes_file = \"classes.yaml\"\n",
    "colors_file = \"colors.yaml\"\n",
    "\n",
    "os.makedirs(Path.cwd().joinpath(\"cocodataset/detection-results\"), exist_ok=True)\n",
    "os.makedirs(Path.cwd().joinpath(\"cocodataset/ground-truth\"), exist_ok=True)\n",
    "os.makedirs(Path.cwd().joinpath(\"cocodataset/images\"), exist_ok=True)\n",
    "\n",
    "annotation_file_path = Path.cwd().joinpath(\"input/annotations\").joinpath(annotation_file)\n",
    "classes_file_path = Path.cwd().joinpath(\"input/classes\").joinpath(classes_file)\n",
    "colors_file_path = Path.cwd().joinpath(\"input/classes\").joinpath(colors_file)\n",
    "\n",
    "with open(annotation_file_path, \"r\") as f:\n",
    "    data = json.load(f)\n",
    "\n",
    "with open(classes_file_path, \"r\") as f:\n",
    "    classes = yaml.safe_load(f)\n",
    "\n",
    "with open(colors_file_path, \"r\") as f:\n",
    "    colors = yaml.safe_load(f)"
   ]
  },
  {
   "cell_type": "markdown",
   "metadata": {},
   "source": [
    "## downloading and saving images"
   ]
  },
  {
   "cell_type": "code",
   "execution_count": 2,
   "metadata": {},
   "outputs": [],
   "source": [
    "import requests\n",
    "import io\n",
    "from PIL import Image\n",
    "\n",
    "def fetch_and_save(url, filename, output_dir):\n",
    "    os.makedirs(output_dir, exist_ok=True)\n",
    "    filepath = os.path.join(output_dir, filename)\n",
    "\n",
    "    response = requests.get(url)\n",
    "    if response.status_code == 200:\n",
    "        image_content = io.BytesIO(response.content)\n",
    "        pil_image = Image.open(image_content).convert(\"RGB\")\n",
    "        pil_image.save(filepath)\n",
    "    else:\n",
    "        print(f\"filename: {filename} from {url} cannot be downloaded\")\n",
    "    \n"
   ]
  },
  {
   "cell_type": "code",
   "execution_count": 2,
   "metadata": {},
   "outputs": [],
   "source": [
    "filenames = [x[\"file_name\"] for x in data[\"images\"]]\n",
    "urls = [x[\"coco_url\"] for x in data[\"images\"]]\n",
    "ids = [x[\"id\"] for x in data[\"images\"]]\n",
    "\n",
    "annotations = [(x[\"bbox\"], x[\"category_id\"], x[\"image_id\"]) for x in data[\"annotations\"]] # bbox, category_id, image_id"
   ]
  },
  {
   "cell_type": "code",
   "execution_count": null,
   "metadata": {},
   "outputs": [],
   "source": [
    "pbar = tqdm(total=len(urls))\n",
    "for url, filename in zip(urls, filenames):\n",
    "    pbar.update()\n",
    "    fetch_and_save(url, filename, output_dir=Path.cwd().joinpath(\"cocodataset/images\"))"
   ]
  },
  {
   "cell_type": "markdown",
   "metadata": {},
   "source": [
    "## Make ground truth files"
   ]
  },
  {
   "cell_type": "code",
   "execution_count": null,
   "metadata": {},
   "outputs": [],
   "source": [
    "for i in tqdm(range(len(ids))):\n",
    "    text = \"\"\n",
    "    for ann in annotations:\n",
    "        if ann[-1] == ids[i]:\n",
    "            bbox = ann[0]\n",
    "            id = ann[1]\n",
    "            if id > 80:\n",
    "                continue\n",
    "            bbox = list(map(round, bbox))\n",
    "            x1, y1 = bbox[0], bbox[1]\n",
    "            x2, y2 = x1 + bbox[2], y1 + bbox[3]\n",
    "            line = \"\"\n",
    "            line += str(classes[id]).replace(\" \", \"\")\n",
    "            line += \" \" + \" \".join(map(str, [x1, y1, x2, y2])) + \"\\n\"\n",
    "            text += line\n",
    "\n",
    "    filename = filenames[i].split(\".\")[0]+\".txt\"\n",
    "    filepath = Path.cwd().joinpath(\"cocodataset/ground-truth\").joinpath(filename).__str__()\n",
    "    with open(filepath, \"w\") as f:\n",
    "        f.write(text)\n",
    "    \n"
   ]
  },
  {
   "cell_type": "code",
   "execution_count": null,
   "metadata": {},
   "outputs": [],
   "source": [
    "from glob import glob\n",
    "len(glob(os.path.join(\"cocodataset/images\", \"*.jpg\")))"
   ]
  },
  {
   "cell_type": "code",
   "execution_count": null,
   "metadata": {},
   "outputs": [],
   "source": [
    "\n",
    "from mAP import compute_metrics, compute_mAP\n",
    "\n",
    "ground_truth_files = glob(os.path.join(\"cocodataset/ground-truth\", \"*.txt\"))\n",
    "ground_truth_files = list(map(os.path.basename, ground_truth_files))\n",
    "ground_truth_files.sort()\n",
    "\n",
    "detection_result_files = glob(os.path.join(\"cocodataset/detection-results\", \"*.txt\"))\n",
    "detection_result_files = list(map(os.path.basename, detection_result_files))\n",
    "detection_result_files.sort()\n",
    "\n",
    "assert ground_truth_files == detection_result_files\n",
    "\n",
    "ground_truth, detection_result = [], []\n",
    "\n",
    "for gt_f, dr_f in zip(ground_truth_files, detection_result_files):\n",
    "    ground_truth_file, detection_result_file = os.path.join(\"cocodataset/ground-truth\", gt_f), os.path.join(\"cocodataset/detection-results\", dr_f)\n",
    "\n",
    "    with open(ground_truth_file, \"r\") as f:\n",
    "        ground_truth_lines = f.read()\n",
    "\n",
    "    with open(detection_result_file, \"r\") as f:\n",
    "        detection_result_lines = f.read()\n",
    "\n",
    "    ground_truth_data = []\n",
    "\n",
    "    for line in ground_truth_lines:\n",
    "        data = line.split(\" \")\n",
    "        data = map(lambda class_name, x1, y1, x2, y2: (str(class_name), int(x1), int(y1), int(x2), int(y2)), data)\n",
    "        ground_truth_data.append(data)\n",
    "\n",
    "    detection_result_data = []\n",
    "\n",
    "    for line in detection_result_lines:\n",
    "        data = line.split(\" \")\n",
    "        data = map(lambda class_name, score, x1, y1, x2, y2: (str(class_name), float(score), int(x1), int(y1), int(x2), int(y2)), data)\n",
    "        detection_result_data.append(data)\n",
    "\n",
    "    ground_truth.append(ground_truth_data)\n",
    "    detection_result.append(detection_result_data)\n",
    "\n",
    "\n",
    "assert len(ground_truth) == len(detection_result)\n",
    "\n",
    "AP = compute_metrics(ground_truth, detection_result)\n",
    "\n",
    "mAP = compute_mAP(AP)"
   ]
  },
  {
   "cell_type": "code",
   "execution_count": null,
   "metadata": {},
   "outputs": [],
   "source": [
    "from mAP import compute_metrics, compute_mAP\n",
    "AP = compute_metrics([[[\"glass\", 0.60, 1, 5, 20, 100], [\"glass\", 0.60, 1, 5, 20, 100]]], [[[\"glass\", 1, 5, 20, 100], [\"glass\", 1, 5, 20, 100]]])\n",
    "print(AP)"
   ]
  }
 ],
 "metadata": {
  "kernelspec": {
   "display_name": "dl",
   "language": "python",
   "name": "python3"
  },
  "language_info": {
   "codemirror_mode": {
    "name": "ipython",
    "version": 3
   },
   "file_extension": ".py",
   "mimetype": "text/x-python",
   "name": "python",
   "nbconvert_exporter": "python",
   "pygments_lexer": "ipython3",
   "version": "3.10.13"
  }
 },
 "nbformat": 4,
 "nbformat_minor": 2
}
